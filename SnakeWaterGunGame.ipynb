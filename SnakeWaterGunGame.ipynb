{
 "cells": [
  {
   "cell_type": "code",
   "execution_count": 1,
   "id": "e717c98f-dbfa-4487-8e5b-211de3fef133",
   "metadata": {},
   "outputs": [
    {
     "name": "stdout",
     "output_type": "stream",
     "text": [
      "Welcome to the Snake Water Gun Guessing Game!\n",
      "  Get ready for a fun and engaging twist on the classic game of Snake, Water,Gun. In this game, you'll choose between Snake, Water, or Gun to challenge the computer. Each choice interacts with the others in unique ways:\n",
      "\n",
      "Snake beats Water\n",
      "Water beats Gun\n",
      "Gun beats Snake\n",
      "You and the computer will each make a choice, and we'll see who comes out on top in each round. Can you outwit the computer and become the ultimate champion?\n",
      "\n",
      "Enjoy the game, and may the best choice win!\n",
      "\n",
      "Feel free to use or modify this introduction for your game! \n",
      "1.snake\n",
      "2.water\n",
      "3.gun\n"
     ]
    },
    {
     "name": "stdin",
     "output_type": "stream",
     "text": [
      "Enter your choice:  snake\n"
     ]
    },
    {
     "name": "stdout",
     "output_type": "stream",
     "text": [
      "Computer Chosses : water\n",
      "you win\n"
     ]
    }
   ],
   "source": [
    "import random\n",
    "import time\n",
    "print('Welcome to the Snake Water Gun Guessing Game!')\n",
    "print('''  Get ready for a fun and engaging twist on the classic game of Snake, Water,Gun. In this game, you'll choose between Snake, Water, or Gun to challenge the computer. Each choice interacts with the others in unique ways:\n",
    "\n",
    "Snake beats Water\n",
    "Water beats Gun\n",
    "Gun beats Snake\n",
    "You and the computer will each make a choice, and we'll see who comes out on top in each round. Can you outwit the computer and become the ultimate champion?\n",
    "\n",
    "Enjoy the game, and may the best choice win!\n",
    "\n",
    "Feel free to use or modify this introduction for your game! ''')\n",
    "lisr=['snake','water','gun']\n",
    "random_choice=random.choice(lisr)\n",
    "print('1.snake\\n2.water\\n3.gun')\n",
    "user=(input(\"Enter your choice: \"))\n",
    "time.sleep(1)\n",
    "print('Computer Chosses :',random_choice)\n",
    "time.sleep(1)\n",
    "\n",
    "if random_choice==user:\n",
    " print(\"Draw\")\n",
    "elif random_choice=='snake' and user=='water':\n",
    " print('computer wins')\n",
    "elif random_choice=='snake' and user=='gun':\n",
    " print('you win')\n",
    "elif random_choice=='water' and user=='gun':\n",
    " print('computer wins')\n",
    "elif random_choice=='water' and user=='snake':   \n",
    " print('you win')\n",
    "elif random_choice=='gun' and user=='snake':\n",
    " print('computer wins')\n",
    "elif random_choice=='gun' and user=='water':\n",
    " print('you win')  \n",
    "  \n",
    "\n",
    "  "
   ]
  }
 ],
 "metadata": {
  "kernelspec": {
   "display_name": "Python 3 (ipykernel)",
   "language": "python",
   "name": "python3"
  },
  "language_info": {
   "codemirror_mode": {
    "name": "ipython",
    "version": 3
   },
   "file_extension": ".py",
   "mimetype": "text/x-python",
   "name": "python",
   "nbconvert_exporter": "python",
   "pygments_lexer": "ipython3",
   "version": "3.12.4"
  }
 },
 "nbformat": 4,
 "nbformat_minor": 5
}
